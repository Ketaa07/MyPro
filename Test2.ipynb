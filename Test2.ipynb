{
 "cells": [
  {
   "cell_type": "code",
   "execution_count": 1,
   "metadata": {},
   "outputs": [
    {
     "data": {
      "text/plain": [
       "3"
      ]
     },
     "execution_count": 1,
     "metadata": {},
     "output_type": "execute_result"
    }
   ],
   "source": [
    "1+2"
   ]
  },
  {
   "cell_type": "code",
   "execution_count": 2,
   "metadata": {},
   "outputs": [
    {
     "name": "stdout",
     "output_type": "stream",
     "text": [
      "Ketan\n"
     ]
    }
   ],
   "source": [
    "print(\"Ketan\")"
   ]
  },
  {
   "cell_type": "code",
   "execution_count": 3,
   "metadata": {},
   "outputs": [
    {
     "data": {
      "text/plain": [
       "['In',\n",
       " 'Out',\n",
       " '_',\n",
       " '_1',\n",
       " '__',\n",
       " '___',\n",
       " '__builtin__',\n",
       " '__builtins__',\n",
       " '__doc__',\n",
       " '__loader__',\n",
       " '__name__',\n",
       " '__package__',\n",
       " '__spec__',\n",
       " '_dh',\n",
       " '_i',\n",
       " '_i1',\n",
       " '_i2',\n",
       " '_i3',\n",
       " '_ih',\n",
       " '_ii',\n",
       " '_iii',\n",
       " '_oh',\n",
       " 'exit',\n",
       " 'get_ipython',\n",
       " 'quit']"
      ]
     },
     "execution_count": 3,
     "metadata": {},
     "output_type": "execute_result"
    }
   ],
   "source": [
    "dir()"
   ]
  },
  {
   "cell_type": "code",
   "execution_count": 1,
   "metadata": {},
   "outputs": [
    {
     "name": "stdout",
     "output_type": "stream",
     "text": [
      "enter a number : A\n",
      "0\n"
     ]
    }
   ],
   "source": [
    "# wap to input a number 'x' and print it\n",
    "# if the thing is not a number set its value to 0\n",
    "x = input(\"enter a number : \")\n",
    "\n",
    "if x.isdigit():\n",
    "    x = int(x)\n",
    "else:\n",
    "    x = 0\n",
    "print(x)"
   ]
  },
  {
   "cell_type": "code",
   "execution_count": 2,
   "metadata": {},
   "outputs": [
    {
     "name": "stdout",
     "output_type": "stream",
     "text": [
      "enter a number for x : 12\n",
      "enter a number for y : 10\n",
      "12\n"
     ]
    }
   ],
   "source": [
    "# wap to input to 2 numbers\n",
    "# print the largest one\n",
    "x = input(\"enter a number for x : \")\n",
    "y = input(\"enter a number for y : \")\n",
    "\n",
    "if x>y:\n",
    "    print(x)\n",
    "else:\n",
    "    print(y)\n",
    "    "
   ]
  },
  {
   "cell_type": "code",
   "execution_count": 5,
   "metadata": {},
   "outputs": [
    {
     "name": "stdout",
     "output_type": "stream",
     "text": [
      "enter a number for x : 1\n",
      "enter a number for y : A\n",
      "not a number\n"
     ]
    }
   ],
   "source": [
    "x = input(\"enter a number for x : \")\n",
    "y = input(\"enter a number for y : \")\n",
    "if x.isnumeric():\n",
    "    if y.isnumeric():\n",
    "        if x>y:\n",
    "            print(int(x))\n",
    "        else:\n",
    "            print(int(y))\n",
    "    else:\n",
    "        print(\"not a number\")\n",
    "        \n",
    "else:\n",
    "    print(\"not a number\")"
   ]
  },
  {
   "cell_type": "code",
   "execution_count": 11,
   "metadata": {},
   "outputs": [
    {
     "name": "stdout",
     "output_type": "stream",
     "text": [
      "1\n",
      "6\n",
      "11\n",
      "8\n"
     ]
    }
   ],
   "source": [
    "s = \"abduhaHsalpu\"\n",
    "\n",
    "print(s.find('b'))\n",
    "print(s.find('H'))\n",
    "print(s.find('u', 5))\n",
    "print(s.find('al',7,14))"
   ]
  },
  {
   "cell_type": "code",
   "execution_count": null,
   "metadata": {},
   "outputs": [],
   "source": [
    "# tracing, dry-run"
   ]
  },
  {
   "cell_type": "code",
   "execution_count": 4,
   "metadata": {},
   "outputs": [
    {
     "name": "stdout",
     "output_type": "stream",
     "text": [
      "4\n",
      "46\n"
     ]
    }
   ],
   "source": [
    "x = \"ahdorncKLLfhdAAhf  prnszxae 2547486dasvafv667 \"\n",
    "\n",
    "print(x.count('a'))\n",
    "print(len(x))"
   ]
  },
  {
   "cell_type": "code",
   "execution_count": 6,
   "metadata": {},
   "outputs": [
    {
     "name": "stdout",
     "output_type": "stream",
     "text": [
      "n1:7\n",
      "n2:8\n",
      "n3:9\n",
      "9\n"
     ]
    }
   ],
   "source": [
    "n1 = int(input(\"n1:\"))\n",
    "n2 = int(input(\"n2:\"))\n",
    "n3 = int(input(\"n3:\"))\n",
    "\n",
    "if n1 > n2 and na > n3:\n",
    "    print(n1)\n",
    "elif n2 >= n1 and n2 >= n3:\n",
    "    print(n2)\n",
    "else:\n",
    "    print(n3)"
   ]
  },
  {
   "cell_type": "code",
   "execution_count": 22,
   "metadata": {},
   "outputs": [
    {
     "name": "stdout",
     "output_type": "stream",
     "text": [
      "13\n",
      "odd\n"
     ]
    }
   ],
   "source": [
    "# define a function is_even() that inputs value from user and prints even/ odd on screen\n",
    "\n",
    "def is_even():\n",
    "    x = int(input())\n",
    "    if x%2 == 0:\n",
    "        print(\"Even\")\n",
    "    else:\n",
    "        print(\"odd\")\n",
    "is_even()"
   ]
  },
  {
   "cell_type": "code",
   "execution_count": null,
   "metadata": {},
   "outputs": [],
   "source": []
  }
 ],
 "metadata": {
  "kernelspec": {
   "display_name": "Python 3",
   "language": "python",
   "name": "python3"
  },
  "language_info": {
   "codemirror_mode": {
    "name": "ipython",
    "version": 3
   },
   "file_extension": ".py",
   "mimetype": "text/x-python",
   "name": "python",
   "nbconvert_exporter": "python",
   "pygments_lexer": "ipython3",
   "version": "3.8.3"
  }
 },
 "nbformat": 4,
 "nbformat_minor": 4
}
